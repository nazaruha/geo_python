{
 "cells": [
  {
   "attachments": {},
   "cell_type": "markdown",
   "metadata": {},
   "source": [
    "imports"
   ]
  },
  {
   "cell_type": "code",
   "execution_count": 1,
   "metadata": {},
   "outputs": [],
   "source": [
    "import geopandas as gpd\n",
    "import shapely\n",
    "import seaborn"
   ]
  },
  {
   "cell_type": "code",
   "execution_count": 2,
   "metadata": {},
   "outputs": [
    {
     "name": "stdout",
     "output_type": "stream",
     "text": [
      "    crop_name sowing_date  actual_yield       field_id  avg_temperature  \\\n",
      "0        maiz  2016-04-10        7600.0   MS_VN_03_407        11.547103   \n",
      "1        maiz  2016-04-11        7900.0   MS_VN_03_405        11.547103   \n",
      "2        maiz  2016-04-12        7900.0  PA_KM_05_1802        12.190627   \n",
      "3        maiz  2016-04-12        9000.0   MS_VN_03_410        11.756031   \n",
      "4        maiz  2016-04-12       12100.0  KI_VN_10_0308        11.584644   \n",
      "..        ...         ...           ...            ...              ...   \n",
      "995       sun  2016-03-17        3500.0   MS_VN_05_404        12.320602   \n",
      "996       sun  2016-03-18        2800.0   MS_VN_05_403        12.320602   \n",
      "997       sun  2016-03-19        2700.0   MS_VN_05_401        12.320602   \n",
      "998       sun  2016-03-30        1800.0   PA_KM_05_410        12.204410   \n",
      "999       sun  2016-03-30        2400.0   MS_VN_05_311        12.319826   \n",
      "\n",
      "     avg_rainfall  model_yield  \\\n",
      "0      572.463009       8903.0   \n",
      "1      574.831401       8814.0   \n",
      "2      637.703767       8317.0   \n",
      "3      588.947718       8878.0   \n",
      "4      595.795305       8996.0   \n",
      "..            ...          ...   \n",
      "995    707.572858       3031.0   \n",
      "996    714.889644       3031.0   \n",
      "997    715.260919       3031.0   \n",
      "998    646.383868       3340.0   \n",
      "999    730.994120       3044.0   \n",
      "\n",
      "                                              geometry  \n",
      "0    MULTIPOLYGON (((28.16611 49.21513, 28.16624 49...  \n",
      "1    MULTIPOLYGON (((28.16966 49.19427, 28.16936 49...  \n",
      "2    MULTIPOLYGON (((27.30659 48.87534, 27.30674 48...  \n",
      "3    MULTIPOLYGON (((28.11488 49.21303, 28.11503 49...  \n",
      "4    MULTIPOLYGON (((28.86633 49.22147, 28.86651 49...  \n",
      "..                                                 ...  \n",
      "995  MULTIPOLYGON (((29.54161 48.18456, 29.54175 48...  \n",
      "996  MULTIPOLYGON (((29.54068 48.18854, 29.54078 48...  \n",
      "997  MULTIPOLYGON (((29.53621 48.19609, 29.53623 48...  \n",
      "998  MULTIPOLYGON (((27.12298 48.64148, 27.12301 48...  \n",
      "999  MULTIPOLYGON (((29.43676 48.27211, 29.43687 48...  \n",
      "\n",
      "[1000 rows x 8 columns]\n"
     ]
    }
   ],
   "source": [
    "gdf = gpd.read_file(\"../example_dataset.geojson\")\n",
    "print(gdf)"
   ]
  }
 ],
 "metadata": {
  "kernelspec": {
   "display_name": "venv",
   "language": "python",
   "name": "python3"
  },
  "language_info": {
   "codemirror_mode": {
    "name": "ipython",
    "version": 3
   },
   "file_extension": ".py",
   "mimetype": "text/x-python",
   "name": "python",
   "nbconvert_exporter": "python",
   "pygments_lexer": "ipython3",
   "version": "3.10.4"
  },
  "orig_nbformat": 4
 },
 "nbformat": 4,
 "nbformat_minor": 2
}

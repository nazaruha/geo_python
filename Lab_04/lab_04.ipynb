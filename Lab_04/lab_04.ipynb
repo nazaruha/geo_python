{
 "cells": [
  {
   "attachments": {},
   "cell_type": "markdown",
   "metadata": {},
   "source": [
    "imports"
   ]
  },
  {
   "cell_type": "code",
   "execution_count": 71,
   "metadata": {},
   "outputs": [],
   "source": [
    "import geopandas as gpd\n",
    "import shapely\n",
    "import seaborn\n",
    "import json\n",
    "import math"
   ]
  },
  {
   "attachments": {},
   "cell_type": "markdown",
   "metadata": {},
   "source": [
    "read geojson file"
   ]
  },
  {
   "cell_type": "code",
   "execution_count": 37,
   "metadata": {},
   "outputs": [],
   "source": [
    "gdf = gpd.read_file(\"../example_dataset.geojson\")\n"
   ]
  },
  {
   "attachments": {},
   "cell_type": "markdown",
   "metadata": {},
   "source": [
    "get count of field which are not sowed in April"
   ]
  },
  {
   "cell_type": "code",
   "execution_count": 58,
   "metadata": {},
   "outputs": [
    {
     "name": "stdout",
     "output_type": "stream",
     "text": [
      "\n",
      "| Count of fields which are not sowed in April: 421 |\n",
      "\n",
      "\n",
      "Fields:\n",
      "     crop_name sowing_date  actual_yield       field_id  avg_temperature  \\\n",
      "143      maiz  2016-05-02        6300.0  GS_CK_04_1002        11.910536   \n",
      "144      maiz  2016-05-02        6500.0  GS_CK_04_1001        11.910536   \n",
      "145      maiz  2016-05-03        6800.0  GS_CK_04_1400        11.884685   \n",
      "146      maiz  2016-05-03        6400.0  GS_CK_04_1003        11.884685   \n",
      "147      maiz  2016-05-05       10400.0  MS_VN_02_1002        11.332681   \n",
      "..        ...         ...           ...            ...              ...   \n",
      "995       sun  2016-03-17        3500.0   MS_VN_05_404        12.320602   \n",
      "996       sun  2016-03-18        2800.0   MS_VN_05_403        12.320602   \n",
      "997       sun  2016-03-19        2700.0   MS_VN_05_401        12.320602   \n",
      "998       sun  2016-03-30        1800.0   PA_KM_05_410        12.204410   \n",
      "999       sun  2016-03-30        2400.0   MS_VN_05_311        12.319826   \n",
      "\n",
      "     avg_rainfall  model_yield  \\\n",
      "143    686.062687       8255.0   \n",
      "144    686.062687       8255.0   \n",
      "145    687.228559       8245.0   \n",
      "146    687.228559       8246.0   \n",
      "147    634.771328       8644.0   \n",
      "..            ...          ...   \n",
      "995    707.572858       3031.0   \n",
      "996    714.889644       3031.0   \n",
      "997    715.260919       3031.0   \n",
      "998    646.383868       3340.0   \n",
      "999    730.994120       3044.0   \n",
      "\n",
      "                                              geometry  \n",
      "143  MULTIPOLYGON (((30.00099 48.94126, 30.00104 48...  \n",
      "144  MULTIPOLYGON (((30.01046 48.95502, 30.01049 48...  \n",
      "145  MULTIPOLYGON (((30.02397 48.91600, 30.03221 48...  \n",
      "146  MULTIPOLYGON (((30.03112 48.94568, 30.03121 48...  \n",
      "147  MULTIPOLYGON (((28.83440 48.91088, 28.83436 48...  \n",
      "..                                                 ...  \n",
      "995  MULTIPOLYGON (((29.54161 48.18456, 29.54175 48...  \n",
      "996  MULTIPOLYGON (((29.54068 48.18854, 29.54078 48...  \n",
      "997  MULTIPOLYGON (((29.53621 48.19609, 29.53623 48...  \n",
      "998  MULTIPOLYGON (((27.12298 48.64148, 27.12301 48...  \n",
      "999  MULTIPOLYGON (((29.43676 48.27211, 29.43687 48...  \n",
      "\n",
      "[421 rows x 8 columns]\n"
     ]
    }
   ],
   "source": [
    "# sowing_date_list = gdf[\"sowing_date\"].tolist()\n",
    "# count = 0\n",
    "# for item in sowing_date_list:\n",
    "#     if (item[4:8] != '-04-'):\n",
    "#         count += 1\n",
    "# print(f\"Count of filed which are not sowed in April {count}\")\n",
    "\n",
    "mask = (gdf[\"sowing_date\"].str[4:8] != \"-04-\") # get mask where field with sowing date April are false\n",
    "not_april_fields = gdf[mask] # convert mask into array\n",
    "print(F\"\\n| Count of fields which are not sowed in April: {len(not_april_fields)} |\") # get count of fields which are not sowed in April\n",
    "print(f\"\\n\\nFields:\\n\", not_april_fields) # output these fields"
   ]
  },
  {
   "attachments": {},
   "cell_type": "markdown",
   "metadata": {},
   "source": [
    "set relative error for each yield"
   ]
  },
  {
   "cell_type": "code",
   "execution_count": 91,
   "metadata": {},
   "outputs": [
    {
     "name": "stdout",
     "output_type": "stream",
     "text": [
      "0      17.144737\n",
      "1      11.569620\n",
      "2       5.278481\n",
      "3       1.355556\n",
      "4      25.652893\n",
      "         ...    \n",
      "995    13.400000\n",
      "996     8.250000\n",
      "997    12.259259\n",
      "998    85.555556\n",
      "999    26.833333\n",
      "Name: relative_error, Length: 1000, dtype: float64\n"
     ]
    }
   ],
   "source": [
    "# error = gdf['actual_yield'] - gdf['model_yield']\n",
    "# i = 0\n",
    "# while i < len(error):\n",
    "#     error[i] = math.fabs(error[i])\n",
    "#     i+=1\n",
    "# print(error.tolist())\n",
    "error = [math.fabs(a - b) for a, b in zip(gdf['actual_yield'], gdf['model_yield'])] # a shorten view of commented code aboove. It gets the difference between actual_yield and model_yield\n",
    "gdf['relative_error'] = (error/gdf['actual_yield']) * 100 # gets relative error (відносну похибку) between actual_yield and model_yield\n",
    "print(gdf['relative_error']) # get the 'relative_error' column for each yield"
   ]
  },
  {
   "cell_type": "code",
   "execution_count": 98,
   "metadata": {},
   "outputs": [
    {
     "name": "stdout",
     "output_type": "stream",
     "text": [
      "| Yield with maximum relative error |\n",
      " crop_name                                                       maiz\n",
      "sowing_date                                               2017-04-28\n",
      "actual_yield                                                  1500.0\n",
      "field_id                                                KI_VN_08_405\n",
      "avg_temperature                                            11.707561\n",
      "avg_rainfall                                              641.750403\n",
      "model_yield                                                   6262.0\n",
      "geometry           MULTIPOLYGON (((29.395252000008373 48.23347100...\n",
      "relative_error                                            317.466667\n",
      "Name: 213, dtype: object\n",
      "\n",
      "| Yield with minimum relative error |\n",
      " crop_name                                                        soy\n",
      "sowing_date                                               2018-05-09\n",
      "actual_yield                                                  2600.0\n",
      "field_id                                               KI_VN_10_0702\n",
      "avg_temperature                                            13.084752\n",
      "avg_rainfall                                              633.554513\n",
      "model_yield                                                   2603.0\n",
      "geometry           MULTIPOLYGON (((28.697984661201634 49.34165148...\n",
      "relative_error                                              0.115385\n",
      "Name: 991, dtype: object\n"
     ]
    }
   ],
   "source": [
    "print(\"| Yield with maximum relative error |\\n\", gdf.loc[gdf['relative_error'].idxmax()])\n",
    "print(\"\\n| Yield with minimum relative error |\\n\", gdf.loc[gdf['relative_error'].idxmin()])"
   ]
  }
 ],
 "metadata": {
  "kernelspec": {
   "display_name": "venv",
   "language": "python",
   "name": "python3"
  },
  "language_info": {
   "codemirror_mode": {
    "name": "ipython",
    "version": 3
   },
   "file_extension": ".py",
   "mimetype": "text/x-python",
   "name": "python",
   "nbconvert_exporter": "python",
   "pygments_lexer": "ipython3",
   "version": "3.10.4"
  },
  "orig_nbformat": 4
 },
 "nbformat": 4,
 "nbformat_minor": 2
}

{
 "cells": [
  {
   "attachments": {},
   "cell_type": "markdown",
   "metadata": {},
   "source": [
    "imports"
   ]
  },
  {
   "cell_type": "code",
   "execution_count": 37,
   "metadata": {},
   "outputs": [],
   "source": [
    "import geopandas as gpd\n",
    "import glob"
   ]
  },
  {
   "attachments": {},
   "cell_type": "markdown",
   "metadata": {},
   "source": [
    "open geojson file"
   ]
  },
  {
   "cell_type": "code",
   "execution_count": 38,
   "metadata": {},
   "outputs": [],
   "source": [
    "gdf = gpd.read_file(\"./field_polygons.geojson\")"
   ]
  },
  {
   "attachments": {},
   "cell_type": "markdown",
   "metadata": {},
   "source": [
    "update value of the 'Name' column adding row's index through the '_' to each row of the dataset"
   ]
  },
  {
   "cell_type": "code",
   "execution_count": 39,
   "metadata": {},
   "outputs": [
    {
     "name": "stdout",
     "output_type": "stream",
     "text": [
      "    id          Name                                           geometry\n",
      "0    1        Pin4_0  MULTIPOLYGON (((30.17411 49.99641, 30.17705 50...\n",
      "1    2       Pin17_1  MULTIPOLYGON (((30.24050 49.98769, 30.24404 49...\n",
      "2    3   Shev7-8-9_2  MULTIPOLYGON (((30.32204 50.00902, 30.33148 50...\n",
      "3    4      Shev10_3  MULTIPOLYGON (((30.35295 50.01389, 30.35007 50...\n",
      "4    5         Tr5_4  MULTIPOLYGON (((30.33304 50.02297, 30.34076 50...\n",
      "5    6       Shev6_5  MULTIPOLYGON (((30.31524 50.02392, 30.31583 50...\n",
      "6    7         Tr4_6  MULTIPOLYGON (((30.34083 50.03253, 30.34986 50...\n",
      "7    8         Tr3_7  MULTIPOLYGON (((30.36117 50.04025, 30.36097 50...\n",
      "8    9         Tr2_8  MULTIPOLYGON (((30.35835 50.04439, 30.35962 50...\n",
      "9   10        Tr10_9  MULTIPOLYGON (((30.33419 50.02495, 30.32681 50...\n",
      "10  11        Tr9_10  MULTIPOLYGON (((30.31089 50.02778, 30.30300 50...\n",
      "11  12      Shev4_11  MULTIPOLYGON (((30.31077 50.02776, 30.30801 50...\n",
      "12  13        Tr1_12  MULTIPOLYGON (((30.37998 50.08080, 30.36923 50...\n",
      "13  14        Tr2_13  MULTIPOLYGON (((30.36943 50.06676, 30.38037 50...\n",
      "14  15     Yatz50_14  MULTIPOLYGON (((30.41260 50.03523, 30.41305 50...\n",
      "15  16  Yatz220/1_15  MULTIPOLYGON (((30.41584 50.02548, 30.42128 50...\n",
      "16  17  Yatz220/2_16  MULTIPOLYGON (((30.42718 50.02542, 30.43065 50...\n",
      "17  18     Yatz36_17  MULTIPOLYGON (((30.43968 50.02555, 30.44269 50...\n",
      "18  18     Yatz60_18  MULTIPOLYGON (((30.44707 50.02517, 30.46051 50...\n",
      "19  19     Yatz45_19  MULTIPOLYGON (((30.42709 50.01402, 30.42824 50...\n",
      "20  21     Yatz44_20  MULTIPOLYGON (((30.39190 50.00432, 30.39223 50...\n",
      "21  22        Ks8_21  MULTIPOLYGON (((30.22781 50.03749, 30.22894 50...\n",
      "22  23       Pin9_22  MULTIPOLYGON (((30.23693 50.02784, 30.23850 50...\n",
      "23  24        Ks1_23  MULTIPOLYGON (((30.20194 50.06182, 30.20723 50...\n",
      "24  25        Ks5_24  MULTIPOLYGON (((30.21809 50.06222, 30.21884 50...\n",
      "25  27     Pin9/1_25  MULTIPOLYGON (((30.24865 50.01706, 30.25114 50...\n",
      "26  27      pin10_26  MULTIPOLYGON (((30.25749 50.02448, 30.25792 50...\n",
      "27  29      Shev3_27  MULTIPOLYGON (((30.29413 50.03381, 30.29123 50...\n",
      "28  30      Shev2_28  MULTIPOLYGON (((30.29122 50.03751, 30.28684 50...\n",
      "29  31      Shev1_29  MULTIPOLYGON (((30.28146 50.04754, 30.28363 50...\n",
      "30  32       Ks11_30  MULTIPOLYGON (((30.25310 50.04018, 30.25364 50...\n",
      "31  32        Ks6_31  MULTIPOLYGON (((30.24975 50.04569, 30.25688 50...\n",
      "32  34        Ks7_32  MULTIPOLYGON (((30.23020 50.03950, 30.22977 50...\n",
      "33  36        Tr6_33  MULTIPOLYGON (((30.32902 50.03971, 30.32901 50...\n",
      "34  36       Tr10_34  MULTIPOLYGON (((30.32707 50.04034, 30.31133 50...\n",
      "35  38        Tr8_35  MULTIPOLYGON (((30.32468 50.06402, 30.32409 50...\n",
      "36  38        Tr8_36  MULTIPOLYGON (((30.32404 50.05966, 30.32734 50...\n",
      "37  39        Tr7_37  MULTIPOLYGON (((30.32526 50.06256, 30.32929 50...\n",
      "38  40      Tr7/1_38  MULTIPOLYGON (((30.33510 50.06376, 30.33659 50...\n",
      "39  41        Ls3_39  MULTIPOLYGON (((30.18921 50.02613, 30.18954 50...\n",
      "40  42        Ks2_40  MULTIPOLYGON (((30.20297 50.02709, 30.20629 50...\n",
      "41  42       Ks15_41  MULTIPOLYGON (((30.23337 50.03033, 30.23604 50...\n",
      "42  82       Ks12_42  MULTIPOLYGON (((30.23290 50.03060, 30.23140 50...\n",
      "43  83       Ks13_43  MULTIPOLYGON (((30.21842 50.03580, 30.22176 50...\n"
     ]
    }
   ],
   "source": [
    "if (str.__contains__(gdf[\"Name\"][0], \"_\") == False): # check if we already added indecies to our names\n",
    "    # add indices to the names with _. \n",
    "    #'axis=1' --> allows to use the lambda function to the each row of dataset\n",
    "    gdf[\"Name\"] = gdf.apply(lambda row: row[\"Name\"] + \"_\" + str(row.name), axis=1) \n",
    "print(gdf)"
   ]
  },
  {
   "attachments": {},
   "cell_type": "markdown",
   "metadata": {},
   "source": [
    "get count of .tif files in the directory 'spatial_data'"
   ]
  },
  {
   "cell_type": "code",
   "execution_count": 40,
   "metadata": {},
   "outputs": [
    {
     "name": "stdout",
     "output_type": "stream",
     "text": [
      "68\n"
     ]
    }
   ],
   "source": [
    "# /**/ --> means any subdirecotory\n",
    "# 'recursive=True' --> glob's parameter. It means that the serch will be excuted in the main directory and its subdirectories\n",
    "files_len = glob.glob(\"./spatial_data/**/*.tif\", recursive=True) \n",
    "print(len(files_len))"
   ]
  }
 ],
 "metadata": {
  "kernelspec": {
   "display_name": "venv",
   "language": "python",
   "name": "python3"
  },
  "language_info": {
   "codemirror_mode": {
    "name": "ipython",
    "version": 3
   },
   "file_extension": ".py",
   "mimetype": "text/x-python",
   "name": "python",
   "nbconvert_exporter": "python",
   "pygments_lexer": "ipython3",
   "version": "3.10.4"
  },
  "orig_nbformat": 4
 },
 "nbformat": 4,
 "nbformat_minor": 2
}

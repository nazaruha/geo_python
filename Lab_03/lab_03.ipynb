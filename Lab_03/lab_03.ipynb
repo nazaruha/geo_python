{
 "cells": [
  {
   "attachments": {},
   "cell_type": "markdown",
   "metadata": {},
   "source": [
    "imports"
   ]
  },
  {
   "cell_type": "code",
   "execution_count": 6,
   "metadata": {},
   "outputs": [],
   "source": [
    "import geopandas as gpd # use it to work with .geojson files\n",
    "import shapely\n",
    "import seaborn"
   ]
  },
  {
   "attachments": {},
   "cell_type": "markdown",
   "metadata": {},
   "source": [
    "get CRS of .geojson file"
   ]
  },
  {
   "cell_type": "code",
   "execution_count": 7,
   "metadata": {},
   "outputs": [
    {
     "name": "stdout",
     "output_type": "stream",
     "text": [
      "CRS(EPSG:4326)\n"
     ]
    }
   ],
   "source": [
    "gdf = gpd.read_file(\"example_dataset.geojson\") # read_file -> geopandas' method to read .geojson files\n",
    "crs = gdf.crs # gets CRS of our readed .geojson file\n",
    "print(f\"CRS({crs})\")"
   ]
  },
  {
   "attachments": {},
   "cell_type": "markdown",
   "metadata": {},
   "source": [
    "get total number of notes"
   ]
  },
  {
   "cell_type": "code",
   "execution_count": 8,
   "metadata": {},
   "outputs": [
    {
     "name": "stdout",
     "output_type": "stream",
     "text": [
      "Total number of notes: 1000\n"
     ]
    }
   ],
   "source": [
    "number_of_notes = len(gdf) # length of file data\n",
    "print(f\"Total number of notes: {number_of_notes}\")"
   ]
  },
  {
   "cell_type": "code",
   "execution_count": 11,
   "metadata": {},
   "outputs": [
    {
     "name": "stdout",
     "output_type": "stream",
     "text": [
      "List of columns\n",
      "['crop_name', 'sowing_date', 'actual_yield', 'field_id', 'avg_temperature', 'avg_rainfall', 'model_yield', 'geometry']\n"
     ]
    }
   ],
   "source": [
    "print(\"List of columns\")\n",
    "print(gdf.columns.tolist()) # get columns of geojson file"
   ]
  }
 ],
 "metadata": {
  "kernelspec": {
   "display_name": "venv",
   "language": "python",
   "name": "python3"
  },
  "language_info": {
   "codemirror_mode": {
    "name": "ipython",
    "version": 3
   },
   "file_extension": ".py",
   "mimetype": "text/x-python",
   "name": "python",
   "nbconvert_exporter": "python",
   "pygments_lexer": "ipython3",
   "version": "3.10.4"
  },
  "orig_nbformat": 4
 },
 "nbformat": 4,
 "nbformat_minor": 2
}

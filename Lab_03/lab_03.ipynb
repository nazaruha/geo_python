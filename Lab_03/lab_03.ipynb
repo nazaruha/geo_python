{
 "cells": [
  {
   "attachments": {},
   "cell_type": "markdown",
   "metadata": {},
   "source": [
    "imports"
   ]
  },
  {
   "cell_type": "code",
   "execution_count": 6,
   "metadata": {},
   "outputs": [],
   "source": [
    "import geopandas as gpd # use it to work with .geojson files\n",
    "import shapely\n",
    "import seaborn"
   ]
  },
  {
   "attachments": {},
   "cell_type": "markdown",
   "metadata": {},
   "source": [
    "get CRS of .geojson file"
   ]
  },
  {
   "cell_type": "code",
   "execution_count": 7,
   "metadata": {},
   "outputs": [
    {
     "name": "stdout",
     "output_type": "stream",
     "text": [
      "CRS(EPSG:4326)\n"
     ]
    }
   ],
   "source": [
    "gdf = gpd.read_file(\"example_dataset.geojson\") # read_file -> geopandas' method to read .geojson files\n",
    "crs = gdf.crs # gets CRS of our readed .geojson file\n",
    "print(f\"CRS({crs})\")"
   ]
  },
  {
   "attachments": {},
   "cell_type": "markdown",
   "metadata": {},
   "source": [
    "get total number of notes"
   ]
  },
  {
   "cell_type": "code",
   "execution_count": 8,
   "metadata": {},
   "outputs": [
    {
     "name": "stdout",
     "output_type": "stream",
     "text": [
      "Total number of notes: 1000\n"
     ]
    }
   ],
   "source": [
    "number_of_notes = len(gdf) # length of file data\n",
    "print(f\"Total number of notes: {number_of_notes}\")"
   ]
  },
  {
   "attachments": {},
   "cell_type": "markdown",
   "metadata": {},
   "source": [
    "get columns of geojson file"
   ]
  },
  {
   "cell_type": "code",
   "execution_count": 11,
   "metadata": {},
   "outputs": [
    {
     "name": "stdout",
     "output_type": "stream",
     "text": [
      "List of columns\n",
      "['crop_name', 'sowing_date', 'actual_yield', 'field_id', 'avg_temperature', 'avg_rainfall', 'model_yield', 'geometry']\n"
     ]
    }
   ],
   "source": [
    "print(\"List of columns\")\n",
    "print(gdf.columns.tolist()) # get columns of geojson file"
   ]
  },
  {
   "attachments": {},
   "cell_type": "markdown",
   "metadata": {},
   "source": [
    "get first 10 rows of the dataset"
   ]
  },
  {
   "cell_type": "code",
   "execution_count": 14,
   "metadata": {},
   "outputs": [
    {
     "name": "stdout",
     "output_type": "stream",
     "text": [
      "First 10 rows of the dataset\n",
      "  crop_name sowing_date  actual_yield       field_id  avg_temperature  \\\n",
      "0      maiz  2016-04-10        7600.0   MS_VN_03_407        11.547103   \n",
      "1      maiz  2016-04-11        7900.0   MS_VN_03_405        11.547103   \n",
      "2      maiz  2016-04-12        7900.0  PA_KM_05_1802        12.190627   \n",
      "3      maiz  2016-04-12        9000.0   MS_VN_03_410        11.756031   \n",
      "4      maiz  2016-04-12       12100.0  KI_VN_10_0308        11.584644   \n",
      "5      maiz  2016-04-13        7000.0  PA_KM_05_1803        12.190627   \n",
      "6      maiz  2016-04-13        6400.0  PA_KM_05_1801        12.190627   \n",
      "7      maiz  2016-04-13        7300.0   MS_VN_03_409        11.756031   \n",
      "8      maiz  2016-04-13       11700.0  KI_VN_10_0302        11.584644   \n",
      "9      maiz  2016-04-14        7100.0  PA_KM_05_1804        12.190627   \n",
      "\n",
      "   avg_rainfall  model_yield  \\\n",
      "0    572.463009       8903.0   \n",
      "1    574.831401       8814.0   \n",
      "2    637.703767       8317.0   \n",
      "3    588.947718       8878.0   \n",
      "4    595.795305       8996.0   \n",
      "5    640.868072       8184.0   \n",
      "6    640.868072       8184.0   \n",
      "7    597.970930       8965.0   \n",
      "8    598.156220       8875.0   \n",
      "9    646.445618       8211.0   \n",
      "\n",
      "                                            geometry  \n",
      "0  MULTIPOLYGON (((28.16611 49.21513, 28.16624 49...  \n",
      "1  MULTIPOLYGON (((28.16966 49.19427, 28.16936 49...  \n",
      "2  MULTIPOLYGON (((27.30659 48.87534, 27.30674 48...  \n",
      "3  MULTIPOLYGON (((28.11488 49.21303, 28.11503 49...  \n",
      "4  MULTIPOLYGON (((28.86633 49.22147, 28.86651 49...  \n",
      "5  MULTIPOLYGON (((27.28864 48.87534, 27.28873 48...  \n",
      "6  MULTIPOLYGON (((27.29514 48.87655, 27.29317 48...  \n",
      "7  MULTIPOLYGON (((28.12418 49.21158, 28.12390 49...  \n",
      "8  MULTIPOLYGON (((28.90721 49.23975, 28.90723 49...  \n",
      "9  MULTIPOLYGON (((27.28238 48.87403, 27.28251 48...  \n"
     ]
    }
   ],
   "source": [
    "print(\"First 10 rows of the dataset\")\n",
    "print(gdf.head(10)) # get first 10 rows of the geojson file"
   ]
  },
  {
   "attachments": {},
   "cell_type": "markdown",
   "metadata": {},
   "source": [
    "get the total number of crops in the dataset"
   ]
  },
  {
   "cell_type": "code",
   "execution_count": 21,
   "metadata": {},
   "outputs": [
    {
     "name": "stdout",
     "output_type": "stream",
     "text": [
      "Total number of crops: 3\n"
     ]
    }
   ],
   "source": [
    "crop_count = gdf[\"crop_name\"].value_counts() # get the number of occurrences of each crop in the dataset\n",
    "total_crops = len(crop_count) # get the total number of crops in the dataset\n",
    "print(f\"Total number of crops: {total_crops}\")"
   ]
  },
  {
   "attachments": {},
   "cell_type": "markdown",
   "metadata": {},
   "source": [
    "get the number of records for each crop"
   ]
  },
  {
   "cell_type": "code",
   "execution_count": 24,
   "metadata": {},
   "outputs": [
    {
     "name": "stdout",
     "output_type": "stream",
     "text": [
      "| Number of records for each crop: |\n",
      "maiz    785\n",
      "soy     209\n",
      "sun       6\n",
      "Name: crop_name, dtype: int64\n"
     ]
    }
   ],
   "source": [
    "print(\"| Number of records for each crop: |\")\n",
    "print(crop_count)"
   ]
  },
  {
   "attachments": {},
   "cell_type": "markdown",
   "metadata": {},
   "source": [
    "get max and min of actual_yield of the dataset"
   ]
  },
  {
   "cell_type": "code",
   "execution_count": 37,
   "metadata": {},
   "outputs": [
    {
     "name": "stdout",
     "output_type": "stream",
     "text": [
      "| Max of actual_yield: |\n",
      "crop_name                                                       maiz\n",
      "sowing_date                                               2018-04-23\n",
      "actual_yield                                                 14500.0\n",
      "field_id                                                MS_VN_03_205\n",
      "avg_temperature                                            13.204197\n",
      "avg_rainfall                                              643.851488\n",
      "model_yield                                                   8096.0\n",
      "geometry           MULTIPOLYGON (((28.405359888900804 49.06401641...\n",
      "Name: 450, dtype: object\n",
      "\n",
      "| Min of actual_yield: |\n",
      "crop_name                                                        soy\n",
      "sowing_date                                               2017-04-27\n",
      "actual_yield                                                   900.0\n",
      "field_id                                                MS_VN_02_502\n",
      "avg_temperature                                            11.554349\n",
      "avg_rainfall                                              625.875383\n",
      "model_yield                                                   2651.0\n",
      "geometry           MULTIPOLYGON (((29.071879000003968 48.98033300...\n",
      "Name: 854, dtype: object\n"
     ]
    }
   ],
   "source": [
    "print(\"| Max of actual_yield: |\")\n",
    "print(gdf.loc[gdf[\"actual_yield\"].idxmax()])\n",
    "\n",
    "print(\"\\n| Min of actual_yield: |\")\n",
    "print(gdf.loc[gdf[\"actual_yield\"].idxmin()])"
   ]
  },
  {
   "cell_type": "code",
   "execution_count": null,
   "metadata": {},
   "outputs": [],
   "source": []
  }
 ],
 "metadata": {
  "kernelspec": {
   "display_name": "venv",
   "language": "python",
   "name": "python3"
  },
  "language_info": {
   "codemirror_mode": {
    "name": "ipython",
    "version": 3
   },
   "file_extension": ".py",
   "mimetype": "text/x-python",
   "name": "python",
   "nbconvert_exporter": "python",
   "pygments_lexer": "ipython3",
   "version": "3.10.4"
  },
  "orig_nbformat": 4
 },
 "nbformat": 4,
 "nbformat_minor": 2
}

{
 "cells": [
  {
   "attachments": {},
   "cell_type": "markdown",
   "metadata": {},
   "source": [
    "imports"
   ]
  },
  {
   "cell_type": "code",
   "execution_count": 9,
   "metadata": {},
   "outputs": [],
   "source": [
    "import rasterio\n",
    "import numpy as np\n",
    "import jupyter\n",
    "import pyproj"
   ]
  },
  {
   "attachments": {},
   "cell_type": "markdown",
   "metadata": {},
   "source": [
    "get data and mask from image"
   ]
  },
  {
   "cell_type": "code",
   "execution_count": 10,
   "metadata": {},
   "outputs": [],
   "source": [
    "with rasterio.open(\"../images/soil_moisture.tif\") as src:\n",
    "    image = src.read(1) # get image\n",
    "    mask = image != 65535"
   ]
  },
  {
   "attachments": {},
   "cell_type": "markdown",
   "metadata": {},
   "source": [
    "get mean value of valid moisture"
   ]
  },
  {
   "cell_type": "code",
   "execution_count": 11,
   "metadata": {},
   "outputs": [
    {
     "name": "stdout",
     "output_type": "stream",
     "text": [
      "mean value of valid data: 3061.4033573708475\n"
     ]
    }
   ],
   "source": [
    "mean_value = image[mask].mean()\n",
    "print(\"mean value of valid data:\", mean_value)"
   ]
  },
  {
   "attachments": {},
   "cell_type": "markdown",
   "metadata": {},
   "source": [
    "Get Count of valid values of moisture. Also get min and max of these values"
   ]
  },
  {
   "cell_type": "code",
   "execution_count": 6,
   "metadata": {},
   "outputs": [
    {
     "name": "stdout",
     "output_type": "stream",
     "text": [
      "count of valid values of moisture: 205217355\n",
      "maximal value of moisture: 3353\n",
      "minimal value of moisture: 2436\n"
     ]
    }
   ],
   "source": [
    "filter_array = image != 65535\n",
    "valid_pixels = image[filter_array]\n",
    "\n",
    "print(f\"count of valid values of moisture: {len(valid_pixels)}\")\n",
    "print(f\"maximal value of moisture: {valid_pixels.max()}\")\n",
    "print(f\"minimal value of moisture: {valid_pixels.min()}\")"
   ]
  },
  {
   "attachments": {},
   "cell_type": "markdown",
   "metadata": {},
   "source": [
    "get count of invalid values of moisture"
   ]
  },
  {
   "cell_type": "code",
   "execution_count": 7,
   "metadata": {},
   "outputs": [
    {
     "name": "stdout",
     "output_type": "stream",
     "text": [
      "count of invalid values of moisture: 99665790\n"
     ]
    }
   ],
   "source": [
    "invalid_pixels = filter_array[filter_array == False]\n",
    "invalid_count = len(invalid_pixels)\n",
    "print(\"count of invalid values of moisture:\", invalid_count)"
   ]
  },
  {
   "cell_type": "code",
   "execution_count": 8,
   "metadata": {},
   "outputs": [
    {
     "name": "stdout",
     "output_type": "stream",
     "text": [
      "location of invalid pixels\n"
     ]
    }
   ],
   "source": [
    "with rasterio.open(\"../images/soil_moisture.tif\") as dataset:\n",
    "    data = dataset.read(1)\n",
    "    mask = dataset.dataset_mask()\n",
    "\n",
    "    nodata = dataset.nodata\n",
    "\n",
    "    data_masked = np.ma.masked_where(data == nodata, data)\n",
    "\n",
    "    invalid_pixels = np.argwhere(data == nodata)\n",
    "\n",
    "    print(\"location of invalid pixels\")\n",
    "    for pixel in invalid_pixels:\n",
    "        lon, lat = dataset.xy(pixel[0], pixel[1])\n",
    "        print(f\"({lat};{lon})\")"
   ]
  }
 ],
 "metadata": {
  "kernelspec": {
   "display_name": "venv",
   "language": "python",
   "name": "python3"
  },
  "language_info": {
   "codemirror_mode": {
    "name": "ipython",
    "version": 3
   },
   "file_extension": ".py",
   "mimetype": "text/x-python",
   "name": "python",
   "nbconvert_exporter": "python",
   "pygments_lexer": "ipython3",
   "version": "3.10.4"
  },
  "orig_nbformat": 4
 },
 "nbformat": 4,
 "nbformat_minor": 2
}

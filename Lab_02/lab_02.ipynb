{
 "cells": [
  {
   "attachments": {},
   "cell_type": "markdown",
   "metadata": {},
   "source": [
    "imports"
   ]
  },
  {
   "cell_type": "code",
   "execution_count": 89,
   "metadata": {},
   "outputs": [],
   "source": [
    "import rasterio\n",
    "import numpy as np\n",
    "import jupyter\n",
    "import pyproj"
   ]
  },
  {
   "attachments": {},
   "cell_type": "markdown",
   "metadata": {},
   "source": [
    "get data and mask from image"
   ]
  },
  {
   "cell_type": "code",
   "execution_count": 90,
   "metadata": {},
   "outputs": [],
   "source": [
    "with rasterio.open(\"../images/soil_moisture.tif\") as src:\n",
    "    image = src.read(1) # get image\n",
    "    mask = image != 65535\n",
    "    valid_mask = image[mask] # create mask only with valid data"
   ]
  },
  {
   "attachments": {},
   "cell_type": "markdown",
   "metadata": {},
   "source": [
    "get mean value of valid moisture"
   ]
  },
  {
   "cell_type": "code",
   "execution_count": 91,
   "metadata": {},
   "outputs": [
    {
     "name": "stdout",
     "output_type": "stream",
     "text": [
      "mean value of valid data: 3061.4033573708475\n"
     ]
    }
   ],
   "source": [
    "mean_value = image[mask].mean() # mean - average. Get average of valid data of moisture\n",
    "print(\"mean value of valid data:\", mean_value)"
   ]
  },
  {
   "attachments": {},
   "cell_type": "markdown",
   "metadata": {},
   "source": [
    "Get Count of valid values of moisture"
   ]
  },
  {
   "cell_type": "code",
   "execution_count": 92,
   "metadata": {},
   "outputs": [
    {
     "name": "stdout",
     "output_type": "stream",
     "text": [
      "count of valid values of moisture: 169180\n"
     ]
    }
   ],
   "source": [
    "print(f\"count of valid values of moisture: {len(image[mask])}\") # count of valid data\n"
   ]
  },
  {
   "attachments": {},
   "cell_type": "markdown",
   "metadata": {},
   "source": [
    "Get min and max of these values"
   ]
  },
  {
   "cell_type": "code",
   "execution_count": 93,
   "metadata": {},
   "outputs": [
    {
     "name": "stdout",
     "output_type": "stream",
     "text": [
      "maximal value of moisture: 3824\n",
      "minimal value of moisture: 2139\n"
     ]
    }
   ],
   "source": [
    "min_val = image[mask].min() # minimal number of valid data\n",
    "max_val = image[mask].max() # maximal number of valid data\n",
    "print(f\"maximal value of moisture: {max_val}\")\n",
    "print(f\"minimal value of moisture: {min_val}\")"
   ]
  },
  {
   "attachments": {},
   "cell_type": "markdown",
   "metadata": {},
   "source": [
    "Get count and coordinates of valid max value of moisture"
   ]
  },
  {
   "cell_type": "code",
   "execution_count": 94,
   "metadata": {},
   "outputs": [
    {
     "name": "stdout",
     "output_type": "stream",
     "text": [
      "Count of max value of mositure: 1\n",
      "Coordinates: ([30.055174724500006], [50.327297593500006])\n"
     ]
    }
   ],
   "source": [
    "with rasterio.open(\"../images/soil_moisture.tif\") as src:\n",
    "    max_coords = np.where(image == max_val) # get indexes of maximal valid value of the 1-layout image\n",
    "    max_lat_lon_data = rasterio.transform.xy(src.transform, max_coords[0], max_coords[1]) # get coordinates of the max valid value on the GeoTIFF \n",
    "    print(f\"Count of max value of mositure: {len(valid_mask[valid_mask == max_val])}\") # get count of max valid value\n",
    "    print(f\"Coordinates: {max_lat_lon_data}\")"
   ]
  },
  {
   "attachments": {},
   "cell_type": "markdown",
   "metadata": {},
   "source": [
    "Get count and coordinates of valid min value of moisture"
   ]
  },
  {
   "cell_type": "code",
   "execution_count": 95,
   "metadata": {},
   "outputs": [
    {
     "name": "stdout",
     "output_type": "stream",
     "text": [
      "Count of min value of moisture: 1\n",
      "Coordinate: ([29.894758083500008], [50.054380970500006])\n"
     ]
    }
   ],
   "source": [
    "with rasterio.open(\"../images/soil_moisture.tif\") as src:\n",
    "    min_coords = np.where(image == min_val) # get indexes of minimal valid value of the 1-layout image\n",
    "    min_lat_lon_data = rasterio.transform.xy(src.transform, min_coords[0], min_coords[1]) # get coordinates of the min valid value on the GeoTIFF\n",
    "    print(f\"Count of min value of moisture: {len(valid_mask[valid_mask == min_val])}\") # get count of max valid value\n",
    "    print(f\"Coordinate: {min_lat_lon_data}\")"
   ]
  },
  {
   "cell_type": "code",
   "execution_count": null,
   "metadata": {},
   "outputs": [],
   "source": []
  }
 ],
 "metadata": {
  "kernelspec": {
   "display_name": "venv",
   "language": "python",
   "name": "python3"
  },
  "language_info": {
   "codemirror_mode": {
    "name": "ipython",
    "version": 3
   },
   "file_extension": ".py",
   "mimetype": "text/x-python",
   "name": "python",
   "nbconvert_exporter": "python",
   "pygments_lexer": "ipython3",
   "version": "3.10.4"
  },
  "orig_nbformat": 4
 },
 "nbformat": 4,
 "nbformat_minor": 2
}

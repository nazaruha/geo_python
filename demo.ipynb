{
 "cells": [
  {
   "cell_type": "code",
   "execution_count": 2,
   "metadata": {},
   "outputs": [],
   "source": [
    "import numpy as np"
   ]
  },
  {
   "attachments": {},
   "cell_type": "markdown",
   "metadata": {},
   "source": [
    "hardocoded filter array"
   ]
  },
  {
   "cell_type": "code",
   "execution_count": 3,
   "metadata": {},
   "outputs": [
    {
     "name": "stdout",
     "output_type": "stream",
     "text": [
      "arr:\n",
      "[41 42 43 44]\n",
      "x:\n",
      "[True, False, True, False]\n",
      "newarr:\n",
      "[41 43]\n"
     ]
    }
   ],
   "source": [
    "arr = np.array([41, 42, 43, 44])\n",
    "print(f\"arr:\\n{arr}\")\n",
    "\n",
    "x = [True, False, True, False]\n",
    "print(f\"x:\\n{x}\")\n",
    "\n",
    "newarr = arr[x]\n",
    "print(f\"newarr:\\n{newarr}\")"
   ]
  },
  {
   "attachments": {},
   "cell_type": "markdown",
   "metadata": {},
   "source": [
    "filter array using conditionals"
   ]
  },
  {
   "cell_type": "code",
   "execution_count": 4,
   "metadata": {},
   "outputs": [
    {
     "name": "stdout",
     "output_type": "stream",
     "text": [
      "filter_array: [False, False, True, True]\n",
      "newarr: [43 44]\n"
     ]
    }
   ],
   "source": [
    "filter_array = []\n",
    "\n",
    "for element in arr:\n",
    "    if element > 42:\n",
    "        filter_array.append(True)\n",
    "    else:\n",
    "        filter_array.append(False)\n",
    "\n",
    "newarr = arr[filter_array]\n",
    "\n",
    "print(f\"filter_array: {filter_array}\")\n",
    "print(f\"newarr: {newarr}\")"
   ]
  },
  {
   "attachments": {},
   "cell_type": "markdown",
   "metadata": {},
   "source": [
    "filter array with only even numbers"
   ]
  },
  {
   "cell_type": "code",
   "execution_count": 6,
   "metadata": {},
   "outputs": [
    {
     "name": "stdout",
     "output_type": "stream",
     "text": [
      "filter_array: [False, True, False, True, False, True, False]\n",
      "newarr: [2 4 6]\n"
     ]
    }
   ],
   "source": [
    "arr = np.array([1, 2, 3, 4, 5, 6, 7])\n",
    "\n",
    "filter_array.clear()\n",
    "\n",
    "for el in arr:\n",
    "    if (el % 2 == 0):\n",
    "        filter_array.append(True)\n",
    "    else:\n",
    "        filter_array.append(False)\n",
    "\n",
    "newarr = arr[filter_array]\n",
    "\n",
    "print(f\"filter_array: {filter_array}\")\n",
    "print(f\"newarr: {newarr}\")"
   ]
  },
  {
   "attachments": {},
   "cell_type": "markdown",
   "metadata": {},
   "source": [
    "creating filter array DIRECTLY from array"
   ]
  },
  {
   "cell_type": "code",
   "execution_count": 8,
   "metadata": {},
   "outputs": [
    {
     "name": "stdout",
     "output_type": "stream",
     "text": [
      "filter_array: [False False  True  True]\n",
      "newarr: [43 44]\n"
     ]
    }
   ],
   "source": [
    "arr = np.array([41, 42, 43, 44])\n",
    "\n",
    "filter_array = arr > 42\n",
    "\n",
    "newarr = arr[filter_array]\n",
    "\n",
    "print(f\"filter_array: {filter_array}\")\n",
    "print(f\"newarr: {newarr}\")"
   ]
  },
  {
   "attachments": {},
   "cell_type": "markdown",
   "metadata": {},
   "source": [
    "create conditional filter array DIRECTLY from array"
   ]
  },
  {
   "cell_type": "code",
   "execution_count": 9,
   "metadata": {},
   "outputs": [
    {
     "name": "stdout",
     "output_type": "stream",
     "text": [
      "filter_array: [False  True False  True False  True False]\n",
      "newarr: [2 4 6]\n"
     ]
    }
   ],
   "source": [
    "arr = np.array([1, 2, 3, 4, 5, 6, 7])\n",
    "\n",
    "filter_array = arr % 2 == 0\n",
    "\n",
    "newarr = arr[filter_array]\n",
    "\n",
    "print(f\"filter_array: {filter_array}\")\n",
    "print(f\"newarr: {newarr}\")"
   ]
  }
 ],
 "metadata": {
  "kernelspec": {
   "display_name": "Python 3",
   "language": "python",
   "name": "python3"
  },
  "language_info": {
   "codemirror_mode": {
    "name": "ipython",
    "version": 3
   },
   "file_extension": ".py",
   "mimetype": "text/x-python",
   "name": "python",
   "nbconvert_exporter": "python",
   "pygments_lexer": "ipython3",
   "version": "3.10.4"
  },
  "orig_nbformat": 4,
  "vscode": {
   "interpreter": {
    "hash": "ea029defd204f4f798f85e747c92eb6fd6bd23e556ddcc08093c967efeb588ac"
   }
  }
 },
 "nbformat": 4,
 "nbformat_minor": 2
}

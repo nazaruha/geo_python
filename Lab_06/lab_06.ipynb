{
 "cells": [
  {
   "attachments": {},
   "cell_type": "markdown",
   "metadata": {},
   "source": [
    "imports (osgeo - gdal)"
   ]
  },
  {
   "cell_type": "code",
   "execution_count": 51,
   "metadata": {},
   "outputs": [],
   "source": [
    "from osgeo import gdal\n",
    "from osgeo import ogr\n",
    "from osgeo import osr\n",
    "import matplotlib\n",
    "import rasterio\n",
    "import geopandas as gpd\n",
    "from shapely.geometry import Point, mapping"
   ]
  },
  {
   "attachments": {},
   "cell_type": "markdown",
   "metadata": {},
   "source": [
    "read data"
   ]
  },
  {
   "cell_type": "code",
   "execution_count": 52,
   "metadata": {},
   "outputs": [],
   "source": [
    "soil_data = {\n",
    "    \"clay_data\": rasterio.open(\"./soil_data/clay.tif\"),\n",
    "    \"density_data\": rasterio.open(\"./soil_data/density.tif\"),\n",
    "    \"sand_data\": rasterio.open(\"./soil_data/sand.tif\"),\n",
    "    \"moisture_data\": rasterio.open(\"./soil_data/soil_moisture.tif\")\n",
    "}\n",
    "\n",
    "centroid_data = gpd.read_file(\"./centroids/field_centroids.geojson\")"
   ]
  },
  {
   "cell_type": "code",
   "execution_count": 54,
   "metadata": {},
   "outputs": [
    {
     "name": "stdout",
     "output_type": "stream",
     "text": [
      "(235, 296)\n",
      "(238, 328)\n",
      "(228, 368)\n",
      "(224, 379)\n",
      "(221, 373)\n",
      "(221, 364)\n",
      "(216, 377)\n",
      "(212, 387)\n",
      "(210, 383)\n",
      "(217, 365)\n",
      "(212, 355)\n",
      "(219, 353)\n",
      "(196, 385)\n",
      "(200, 390)\n",
      "(218, 406)\n",
      "(217, 411)\n",
      "(217, 416)\n",
      "(217, 421)\n",
      "(222, 425)\n",
      "(224, 414)\n",
      "(229, 397)\n",
      "(215, 323)\n",
      "(218, 326)\n",
      "(202, 309)\n",
      "(203, 315)\n",
      "(225, 329)\n",
      "(222, 333)\n",
      "(216, 351)\n",
      "(212, 348)\n",
      "(213, 342)\n",
      "(214, 335)\n",
      "(212, 330)\n",
      "(212, 322)\n",
      "(212, 372)\n",
      "(211, 363)\n",
      "(205, 357)\n",
      "(208, 360)\n",
      "(202, 368)\n",
      "(203, 373)\n",
      "(221, 304)\n",
      "(219, 308)\n",
      "(220, 320)\n",
      "(217, 317)\n",
      "(216, 313)\n"
     ]
    }
   ],
   "source": [
    "# c = soil_data[\"clay_data\"]\n",
    "# row, col = c.index(30.250268297428843, 49.989318439198321)\n",
    "# print(c.read(1)[row][col])\n",
    "\n",
    "for index, row in centroid_data.iterrows():\n",
    "    lat, lon = row['geometry'].y, row['geometry'].x # get coordinates of the field\n",
    "    row, col = soil_data[\"clay_data\"].index(lon, lat) # get pixel coordinates of the field\n",
    "    "
   ]
  }
 ],
 "metadata": {
  "kernelspec": {
   "display_name": "venv",
   "language": "python",
   "name": "python3"
  },
  "language_info": {
   "codemirror_mode": {
    "name": "ipython",
    "version": 3
   },
   "file_extension": ".py",
   "mimetype": "text/x-python",
   "name": "python",
   "nbconvert_exporter": "python",
   "pygments_lexer": "ipython3",
   "version": "3.10.4"
  },
  "orig_nbformat": 4
 },
 "nbformat": 4,
 "nbformat_minor": 2
}

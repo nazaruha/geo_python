{
 "cells": [
  {
   "attachments": {},
   "cell_type": "markdown",
   "metadata": {},
   "source": [
    "*INSPIRED BY https://github.com/BogdanJeN/Geo/blob/main/Lab_06/lab_06.ipynb REPOSITORY* 😇"
   ]
  },
  {
   "attachments": {},
   "cell_type": "markdown",
   "metadata": {},
   "source": [
    "imports (osgeo - gdal)"
   ]
  },
  {
   "cell_type": "code",
   "execution_count": 72,
   "metadata": {},
   "outputs": [],
   "source": [
    "\n",
    "from osgeo import gdal\n",
    "from osgeo import ogr\n",
    "from osgeo import osr\n",
    "import matplotlib\n",
    "import rasterio\n",
    "import geopandas as gpd\n",
    "from shapely.geometry import Point, mapping\n",
    "import json # to save list into .geojson file"
   ]
  },
  {
   "attachments": {},
   "cell_type": "markdown",
   "metadata": {},
   "source": [
    "read data"
   ]
  },
  {
   "cell_type": "code",
   "execution_count": 73,
   "metadata": {},
   "outputs": [],
   "source": [
    "soil_data = {\n",
    "    \"clay_data\": rasterio.open(\"./soil_data/clay.tif\"),\n",
    "    \"density_data\": rasterio.open(\"./soil_data/density.tif\"),\n",
    "    \"sand_data\": rasterio.open(\"./soil_data/sand.tif\"),\n",
    "    \"moisture_data\": rasterio.open(\"./soil_data/soil_moisture.tif\")\n",
    "}\n",
    "\n",
    "centroid_data = gpd.read_file(\"./centroids/field_centroids.geojson\")"
   ]
  },
  {
   "attachments": {},
   "cell_type": "markdown",
   "metadata": {},
   "source": [
    "update our objects from geojson file with new data (reasters, coordinates)"
   ]
  },
  {
   "cell_type": "code",
   "execution_count": 74,
   "metadata": {},
   "outputs": [],
   "source": [
    "# c = soil_data[\"clay_data\"]\n",
    "# row, col = c.index(30.250268297428843, 49.989318439198321)\n",
    "# print(c.read(1)[row][col])\n",
    "\n",
    "new_geojson_lst = [] # create empty list to contain our new future data\n",
    "\n",
    "for i, row in centroid_data.iterrows():\n",
    "    row_id = row[\"id\"]\n",
    "    row_name = row[\"Name\"]\n",
    "    geometry = row[\"geometry\"].centroid\n",
    "    lat, lon = row['geometry'].y, row['geometry'].x # get coordinates of the field\n",
    "    \n",
    "    row, col = soil_data[\"clay_data\"].index(lon, lat) # get pixel coordinates of the clay data\n",
    "    \n",
    "    # read single pixels from rasters using a window argument\n",
    "    sand_coordinates = float(soil_data[\"sand_data\"].read(1, window=((row, row+1), (col, col+1))))\n",
    "    clay_coordinates = float(soil_data[\"clay_data\"].read(1, window=((row, row+1), (col, col+1))))\n",
    "    density_coordinates = int(soil_data[\"density_data\"].read(1, window=((row, row+1), (col, col+1))))\n",
    "    \n",
    "    row, col = soil_data[\"sand_data\"].index(lon, lat) # get pixel coordinates of the sand data\n",
    "    \n",
    "    moisture_coordinates = int(soil_data[\"moisture_data\"].read(1, window=((row, row+1), (col, col+1))))  # read single pixel from moisture raster using a window argument\n",
    "    \n",
    "    new_geojson_obj = { # update object with new data\n",
    "        \"type\": \"Feature\",\n",
    "        \"properties\": {\n",
    "            \"id\": row_id,\n",
    "            \"name\": row_name,\n",
    "            \"soil\": { # new\n",
    "                \"clay\": clay_coordinates,\n",
    "                \"sand\": sand_coordinates,\n",
    "                \"density\": density_coordinates,\n",
    "            },\n",
    "            \"soil_moisture\": moisture_coordinates, # new\n",
    "            \"coordinates\": { # new\n",
    "                \"lat\": lat, \n",
    "                \"lon\": lon\n",
    "            }\n",
    "        },\n",
    "        \"geometry\": {\n",
    "            \"type\": \"Point\",\n",
    "            \"coordinates\": mapping(geometry)\n",
    "        }\n",
    "    }\n",
    "    new_geojson_lst.append(new_geojson_obj) # add updated obj to the list"
   ]
  },
  {
   "attachments": {},
   "cell_type": "markdown",
   "metadata": {},
   "source": [
    "Create future collection to save our list in GeoJSON format in valid way"
   ]
  },
  {
   "cell_type": "code",
   "execution_count": 75,
   "metadata": {},
   "outputs": [],
   "source": [
    "# this object will help the programm to understand in what extension we want to save our list\n",
    "feature_collection = {\n",
    "    \"type\": \"FeatureCollection\", # Identifies the object as a GeoJSON Featue Collection and provides context for the features that are included in the file\n",
    "    \"features\": new_geojson_lst # our list\n",
    "}"
   ]
  },
  {
   "attachments": {},
   "cell_type": "markdown",
   "metadata": {},
   "source": [
    "Save our data into the new file"
   ]
  },
  {
   "cell_type": "code",
   "execution_count": 77,
   "metadata": {},
   "outputs": [],
   "source": [
    "# save using 'json' import\n",
    "with open(\"./centroids/updated_field_centroids.geojson\", \"w\") as output_file:\n",
    "    json.dump(feature_collection, output_file, indent=2) # need this 'indent=2' to beutify our .geojson file"
   ]
  }
 ],
 "metadata": {
  "kernelspec": {
   "display_name": "venv",
   "language": "python",
   "name": "python3"
  },
  "language_info": {
   "codemirror_mode": {
    "name": "ipython",
    "version": 3
   },
   "file_extension": ".py",
   "mimetype": "text/x-python",
   "name": "python",
   "nbconvert_exporter": "python",
   "pygments_lexer": "ipython3",
   "version": "3.10.4"
  },
  "orig_nbformat": 4
 },
 "nbformat": 4,
 "nbformat_minor": 2
}

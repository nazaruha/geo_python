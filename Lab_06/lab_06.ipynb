{
 "cells": [
  {
   "attachments": {},
   "cell_type": "markdown",
   "metadata": {},
   "source": [
    "imports (osgeo - gdal)"
   ]
  },
  {
   "cell_type": "code",
   "execution_count": 4,
   "metadata": {},
   "outputs": [],
   "source": [
    "from osgeo import gdal\n",
    "from osgeo import ogr\n",
    "from osgeo import osr\n",
    "import matplotlib\n",
    "import rasterio\n",
    "import geopandas as gpd"
   ]
  },
  {
   "cell_type": "code",
   "execution_count": 5,
   "metadata": {},
   "outputs": [],
   "source": [
    "soil_data = {\n",
    "    \"clay_data\": rasterio.open(\"./soil_data/clay.tif\"),\n",
    "    \"density_data\": rasterio.open(\"./soil_data/density.tif\"),\n",
    "    \"sand_data\": rasterio.open(\"./soil_data/sand.tif\"),\n",
    "    \"moisture_data\": rasterio.open(\"./soil_data/soil_moisture.tif\")\n",
    "}\n",
    "centriod_data = gpd.read_file(\"./centroids/field_centroids.geojson\")"
   ]
  }
 ],
 "metadata": {
  "kernelspec": {
   "display_name": "venv",
   "language": "python",
   "name": "python3"
  },
  "language_info": {
   "codemirror_mode": {
    "name": "ipython",
    "version": 3
   },
   "file_extension": ".py",
   "mimetype": "text/x-python",
   "name": "python",
   "nbconvert_exporter": "python",
   "pygments_lexer": "ipython3",
   "version": "3.10.4"
  },
  "orig_nbformat": 4
 },
 "nbformat": 4,
 "nbformat_minor": 2
}

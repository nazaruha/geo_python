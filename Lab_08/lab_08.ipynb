{
 "cells": [
  {
   "attachments": {},
   "cell_type": "markdown",
   "metadata": {},
   "source": [
    "imports"
   ]
  },
  {
   "cell_type": "code",
   "execution_count": 1,
   "metadata": {},
   "outputs": [],
   "source": [
    "import geopandas as gpd"
   ]
  },
  {
   "attachments": {},
   "cell_type": "markdown",
   "metadata": {},
   "source": [
    "get geojson data"
   ]
  },
  {
   "cell_type": "code",
   "execution_count": 2,
   "metadata": {},
   "outputs": [
    {
     "name": "stdout",
     "output_type": "stream",
     "text": [
      "    id       name                                           soil  \\\n",
      "0    1       Pin4  {'clay': 21.0, 'sand': 38.0, 'density': 1149}   \n",
      "1    2      Pin17  {'clay': 21.0, 'sand': 37.0, 'density': 1212}   \n",
      "2    3  Shev7-8-9  {'clay': 22.0, 'sand': 35.0, 'density': 1184}   \n",
      "3    4     Shev10  {'clay': 21.0, 'sand': 31.0, 'density': 1187}   \n",
      "4    5        Tr5  {'clay': 21.0, 'sand': 32.0, 'density': 1215}   \n",
      "5    6      Shev6  {'clay': 19.0, 'sand': 30.0, 'density': 1187}   \n",
      "6    7        Tr4  {'clay': 21.0, 'sand': 31.0, 'density': 1194}   \n",
      "7    8        Tr3  {'clay': 20.0, 'sand': 26.0, 'density': 1205}   \n",
      "8    9        Tr2  {'clay': 18.0, 'sand': 30.0, 'density': 1263}   \n",
      "9   10       Tr10  {'clay': 21.0, 'sand': 26.0, 'density': 1209}   \n",
      "10  11        Tr9  {'clay': 21.0, 'sand': 26.0, 'density': 1225}   \n",
      "11  12      Shev4  {'clay': 20.0, 'sand': 30.0, 'density': 1211}   \n",
      "12  13        Tr1  {'clay': 20.0, 'sand': 26.0, 'density': 1230}   \n",
      "13  14        Tr2  {'clay': 17.0, 'sand': 31.0, 'density': 1217}   \n",
      "14  15     Yatz50  {'clay': 20.0, 'sand': 32.0, 'density': 1204}   \n",
      "15  16  Yatz220/1  {'clay': 17.0, 'sand': 34.0, 'density': 1212}   \n",
      "16  17  Yatz220/2  {'clay': 19.0, 'sand': 36.0, 'density': 1220}   \n",
      "17  18     Yatz36  {'clay': 20.0, 'sand': 36.0, 'density': 1225}   \n",
      "18  18     Yatz60  {'clay': 23.0, 'sand': 33.0, 'density': 1234}   \n",
      "19  19     Yatz45  {'clay': 20.0, 'sand': 35.0, 'density': 1239}   \n",
      "20  21     Yatz44  {'clay': 19.0, 'sand': 37.0, 'density': 1218}   \n",
      "21  22        Ks8  {'clay': 23.0, 'sand': 28.0, 'density': 1223}   \n",
      "22  23       Pin9  {'clay': 22.0, 'sand': 30.0, 'density': 1226}   \n",
      "23  24        Ks1  {'clay': 21.0, 'sand': 31.0, 'density': 1065}   \n",
      "24  25        Ks5  {'clay': 19.0, 'sand': 36.0, 'density': 1230}   \n",
      "25  27     Pin9/1  {'clay': 21.0, 'sand': 42.0, 'density': 1179}   \n",
      "26  27      pin10  {'clay': 22.0, 'sand': 40.0, 'density': 1109}   \n",
      "27  29      Shev3  {'clay': 20.0, 'sand': 30.0, 'density': 1073}   \n",
      "28  30      Shev2  {'clay': 22.0, 'sand': 31.0, 'density': 1230}   \n",
      "29  31      Shev1  {'clay': 22.0, 'sand': 35.0, 'density': 1168}   \n",
      "30  32       Ks11  {'clay': 21.0, 'sand': 38.0, 'density': 1079}   \n",
      "31  32        Ks6  {'clay': 21.0, 'sand': 33.0, 'density': 1161}   \n",
      "32  34        Ks7  {'clay': 22.0, 'sand': 30.0, 'density': 1204}   \n",
      "33  36        Tr6  {'clay': 18.0, 'sand': 27.0, 'density': 1249}   \n",
      "34  36       Tr10  {'clay': 20.0, 'sand': 30.0, 'density': 1215}   \n",
      "35  38        Tr8  {'clay': 19.0, 'sand': 34.0, 'density': 1225}   \n",
      "36  38        Tr8  {'clay': 22.0, 'sand': 26.0, 'density': 1219}   \n",
      "37  39        Tr7  {'clay': 17.0, 'sand': 29.0, 'density': 1245}   \n",
      "38  40      Tr7/1  {'clay': 18.0, 'sand': 29.0, 'density': 1239}   \n",
      "39  41        Ls3  {'clay': 21.0, 'sand': 37.0, 'density': 1232}   \n",
      "40  42        Ks2  {'clay': 19.0, 'sand': 34.0, 'density': 1256}   \n",
      "41  42       Ks15  {'clay': 22.0, 'sand': 33.0, 'density': 1185}   \n",
      "42  82       Ks12  {'clay': 22.0, 'sand': 28.0, 'density': 1211}   \n",
      "43  83       Ks13  {'clay': 18.0, 'sand': 46.0, 'density': 1224}   \n",
      "\n",
      "    soil_moisture                                        coordinates geometry  \n",
      "0            2785  {'lat': 49.995266264307425, 'lon': 30.18408237...     None  \n",
      "1            2813  {'lat': 49.98931843919832, 'lon': 30.250268297...     None  \n",
      "2            3158  {'lat': 50.01055996618192, 'lon': 30.333908293...     None  \n",
      "3            3274  {'lat': 50.018188398179774, 'lon': 30.35689251...     None  \n",
      "4            3243  {'lat': 50.02566009202623, 'lon': 30.345378527...     None  \n",
      "5            3310  {'lat': 50.02440806592541, 'lon': 30.325118809...     None  \n",
      "6            3296  {'lat': 50.0363619500153, 'lon': 30.3536818906...     None  \n",
      "7            3450  {'lat': 50.04295994447788, 'lon': 30.372986796...     None  \n",
      "8            3350  {'lat': 50.047957903921386, 'lon': 30.36454985...     None  \n",
      "9            3382  {'lat': 50.033230476231786, 'lon': 30.32899502...     None  \n",
      "10           3379  {'lat': 50.042973119841896, 'lon': 30.30752387...     None  \n",
      "11           3282  {'lat': 50.029875212388255, 'lon': 30.30260754...     None  \n",
      "12           3579  {'lat': 50.07735504515745, 'lon': 30.369898933...     None  \n",
      "13           3487  {'lat': 50.069988737244095, 'lon': 30.38099841...     None  \n",
      "14           3339  {'lat': 50.03161269012719, 'lon': 30.413713464...     None  \n",
      "15           3332  {'lat': 50.03300594126003, 'lon': 30.423946115...     None  \n",
      "16           3270  {'lat': 50.03274132613815, 'lon': 30.434118851...     None  \n",
      "17           3258  {'lat': 50.03303109984244, 'lon': 30.445039150...     None  \n",
      "18           3269  {'lat': 50.02240651050408, 'lon': 30.453339883...     None  \n",
      "19           3228  {'lat': 50.01921491610042, 'lon': 30.431159839...     None  \n",
      "20           3139  {'lat': 50.007702927187246, 'lon': 30.39539044...     None  \n",
      "21           3137  {'lat': 50.03725266832849, 'lon': 30.240839844...     None  \n",
      "22           3092  {'lat': 50.030903569884906, 'lon': 30.24714347...     None  \n",
      "23           3206  {'lat': 50.06570767130525, 'lon': 30.211041637...     None  \n",
      "24           3067  {'lat': 50.06357013537786, 'lon': 30.224137583...     None  \n",
      "25           2805  {'lat': 50.01769976112636, 'lon': 30.253940863...     None  \n",
      "26           2956  {'lat': 50.02341695806416, 'lon': 30.260568138...     None  \n",
      "27           3363  {'lat': 50.03635988090474, 'lon': 30.299223291...     None  \n",
      "28           3252  {'lat': 50.044723928234326, 'lon': 30.29201241...     None  \n",
      "29           3178  {'lat': 50.042029292180274, 'lon': 30.27932839...     None  \n",
      "30           3130  {'lat': 50.03921700088513, 'lon': 30.266345180...     None  \n",
      "31           3180  {'lat': 50.04434224998322, 'lon': 30.255300633...     None  \n",
      "32           3141  {'lat': 50.04495117318539, 'lon': 30.238589203...     None  \n",
      "33           3386  {'lat': 50.04439201981612, 'lon': 30.342053469...     None  \n",
      "34           3317  {'lat': 50.04528558211443, 'lon': 30.323009926...     None  \n",
      "35           3242  {'lat': 50.05949550314979, 'lon': 30.312375098...     None  \n",
      "36           3390  {'lat': 50.053174592963785, 'lon': 30.31723333...     None  \n",
      "37           3387  {'lat': 50.06448815650528, 'lon': 30.335282871...     None  \n",
      "38           3394  {'lat': 50.06295931046618, 'lon': 30.344481150...     None  \n",
      "39           2786  {'lat': 50.024711290243495, 'lon': 30.20122420...     None  \n",
      "40           2872  {'lat': 50.02866189439028, 'lon': 30.208400400...     None  \n",
      "41           2967  {'lat': 50.027980603581575, 'lon': 30.23411944...     None  \n",
      "42           3066  {'lat': 50.032848069249354, 'lon': 30.22765372...     None  \n",
      "43           2672  {'lat': 50.03570104293429, 'lon': 30.220735144...     None  \n"
     ]
    }
   ],
   "source": [
    "path = \"../Lab_06/centroids/updated_field_centroids.geojson\"\n",
    "gdf = gpd.read_file(path)\n",
    "print(gdf)"
   ]
  },
  {
   "cell_type": "code",
   "execution_count": 12,
   "metadata": {},
   "outputs": [
    {
     "name": "stdout",
     "output_type": "stream",
     "text": [
      "21.0\n",
      "21.0\n",
      "22.0\n",
      "21.0\n",
      "21.0\n",
      "19.0\n",
      "21.0\n",
      "20.0\n",
      "18.0\n",
      "21.0\n",
      "21.0\n",
      "20.0\n",
      "20.0\n",
      "17.0\n",
      "20.0\n",
      "17.0\n",
      "19.0\n",
      "20.0\n",
      "23.0\n",
      "20.0\n",
      "19.0\n",
      "23.0\n",
      "22.0\n",
      "21.0\n",
      "19.0\n",
      "21.0\n",
      "22.0\n",
      "20.0\n",
      "22.0\n",
      "22.0\n",
      "21.0\n",
      "21.0\n",
      "22.0\n",
      "18.0\n",
      "20.0\n",
      "19.0\n",
      "22.0\n",
      "17.0\n",
      "18.0\n",
      "21.0\n",
      "19.0\n",
      "22.0\n",
      "22.0\n",
      "18.0\n"
     ]
    }
   ],
   "source": [
    "for i, row in gdf.iterrows():\n",
    "    soils = row[\"soil\"]\n",
    "    print(soils[\"clay\"])"
   ]
  }
 ],
 "metadata": {
  "kernelspec": {
   "display_name": "venv",
   "language": "python",
   "name": "python3"
  },
  "language_info": {
   "codemirror_mode": {
    "name": "ipython",
    "version": 3
   },
   "file_extension": ".py",
   "mimetype": "text/x-python",
   "name": "python",
   "nbconvert_exporter": "python",
   "pygments_lexer": "ipython3",
   "version": "3.10.4"
  },
  "orig_nbformat": 4
 },
 "nbformat": 4,
 "nbformat_minor": 2
}
